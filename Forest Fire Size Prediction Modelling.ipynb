{
 "cells": [
  {
   "cell_type": "code",
   "execution_count": 1,
   "metadata": {},
   "outputs": [],
   "source": [
    "import pandas as pd\n",
    "import numpy as np"
   ]
  },
  {
   "cell_type": "code",
   "execution_count": 2,
   "metadata": {},
   "outputs": [],
   "source": [
    "pd.set_option('display.max_columns', None)"
   ]
  },
  {
   "cell_type": "code",
   "execution_count": 35,
   "metadata": {},
   "outputs": [],
   "source": [
    "df = pd.read_excel(r'C:\\Users\\NZK\\OneDrive - University of Exeter\\Desktop\\Business Analytics\\Business Project\\data\\smoke\\data.xlsx')"
   ]
  },
  {
   "cell_type": "code",
   "execution_count": 7,
   "metadata": {
    "scrolled": false
   },
   "outputs": [
    {
     "data": {
      "text/html": [
       "<div>\n",
       "<style scoped>\n",
       "    .dataframe tbody tr th:only-of-type {\n",
       "        vertical-align: middle;\n",
       "    }\n",
       "\n",
       "    .dataframe tbody tr th {\n",
       "        vertical-align: top;\n",
       "    }\n",
       "\n",
       "    .dataframe thead th {\n",
       "        text-align: right;\n",
       "    }\n",
       "</style>\n",
       "<table border=\"1\" class=\"dataframe\">\n",
       "  <thead>\n",
       "    <tr style=\"text-align: right;\">\n",
       "      <th></th>\n",
       "      <th>ID</th>\n",
       "      <th>Observation tower</th>\n",
       "      <th>Tower latitude</th>\n",
       "      <th>Tower longitude</th>\n",
       "      <th>Tower height</th>\n",
       "      <th>Date</th>\n",
       "      <th>Year</th>\n",
       "      <th>Month</th>\n",
       "      <th>Day</th>\n",
       "      <th>Plume observation time</th>\n",
       "      <th>UTC</th>\n",
       "      <th>Equilibrium plume top angle</th>\n",
       "      <th>Maximum plume top angle</th>\n",
       "      <th>Distance</th>\n",
       "      <th>Equilibrium plume top height</th>\n",
       "      <th>Maximum plume top height</th>\n",
       "      <th>Fire name</th>\n",
       "      <th>Latitude</th>\n",
       "      <th>Longitude</th>\n",
       "      <th>Fire elevation</th>\n",
       "      <th>Fire report time</th>\n",
       "      <th>Reported fire size</th>\n",
       "      <th>Source</th>\n",
       "      <th>Maximum fire size</th>\n",
       "      <th>Fuel</th>\n",
       "      <th>Temperature</th>\n",
       "      <th>Relative humidity</th>\n",
       "      <th>Wind speed</th>\n",
       "      <th>Wind direction</th>\n",
       "      <th>24 hour precipitation</th>\n",
       "      <th>FFMC</th>\n",
       "      <th>DMC</th>\n",
       "      <th>DC</th>\n",
       "      <th>ISI</th>\n",
       "      <th>BUI</th>\n",
       "      <th>FWI</th>\n",
       "      <th>DSR</th>\n",
       "      <th>Daily growth</th>\n",
       "      <th>Hourly growth</th>\n",
       "      <th>ROS</th>\n",
       "      <th>CFB</th>\n",
       "      <th>HFI</th>\n",
       "      <th>SFC</th>\n",
       "      <th>TFC</th>\n",
       "      <th>Q</th>\n",
       "      <th>Notes</th>\n",
       "    </tr>\n",
       "  </thead>\n",
       "  <tbody>\n",
       "    <tr>\n",
       "      <th>33</th>\n",
       "      <td>35.0</td>\n",
       "      <td>Hotchkiss</td>\n",
       "      <td>57.333933</td>\n",
       "      <td>-118.959333</td>\n",
       "      <td>990</td>\n",
       "      <td>11-07-2012</td>\n",
       "      <td>2012</td>\n",
       "      <td>7</td>\n",
       "      <td>11</td>\n",
       "      <td>1319</td>\n",
       "      <td>1919</td>\n",
       "      <td>3.0</td>\n",
       "      <td>9.0</td>\n",
       "      <td>23.45</td>\n",
       "      <td>1266.315277</td>\n",
       "      <td>3753.422923</td>\n",
       "      <td>PWF068</td>\n",
       "      <td>57.151220</td>\n",
       "      <td>-119.153950</td>\n",
       "      <td>924</td>\n",
       "      <td>600</td>\n",
       "      <td>2.5</td>\n",
       "      <td>A</td>\n",
       "      <td>12732.0</td>\n",
       "      <td>C2</td>\n",
       "      <td>21.5714</td>\n",
       "      <td>35.1255</td>\n",
       "      <td>16.1510</td>\n",
       "      <td>270</td>\n",
       "      <td>0.0000</td>\n",
       "      <td>91.5856</td>\n",
       "      <td>44.9538</td>\n",
       "      <td>338.6180</td>\n",
       "      <td>12.6315</td>\n",
       "      <td>67.0135</td>\n",
       "      <td>29.7064</td>\n",
       "      <td>11.2966</td>\n",
       "      <td>156.360993</td>\n",
       "      <td>116.790387</td>\n",
       "      <td>11.725492</td>\n",
       "      <td>0.836825</td>\n",
       "      <td>11850.661642</td>\n",
       "      <td>2.699456</td>\n",
       "      <td>3.368917</td>\n",
       "      <td>91243000000000</td>\n",
       "      <td>-999</td>\n",
       "    </tr>\n",
       "    <tr>\n",
       "      <th>66</th>\n",
       "      <td>68.0</td>\n",
       "      <td>May</td>\n",
       "      <td>55.562298</td>\n",
       "      <td>-112.404908</td>\n",
       "      <td>866</td>\n",
       "      <td>24-05-2013</td>\n",
       "      <td>2013</td>\n",
       "      <td>5</td>\n",
       "      <td>24</td>\n",
       "      <td>1041</td>\n",
       "      <td>1641</td>\n",
       "      <td>2.0</td>\n",
       "      <td>6.0</td>\n",
       "      <td>37.48</td>\n",
       "      <td>1714.246291</td>\n",
       "      <td>4346.963959</td>\n",
       "      <td>LWF090</td>\n",
       "      <td>55.898133</td>\n",
       "      <td>-112.456783</td>\n",
       "      <td>564</td>\n",
       "      <td>918</td>\n",
       "      <td>2.0</td>\n",
       "      <td>A</td>\n",
       "      <td>123.8</td>\n",
       "      <td>S1</td>\n",
       "      <td>19.5614</td>\n",
       "      <td>33.7813</td>\n",
       "      <td>20.0897</td>\n",
       "      <td>90</td>\n",
       "      <td>0.0000</td>\n",
       "      <td>90.2255</td>\n",
       "      <td>39.5441</td>\n",
       "      <td>192.3422</td>\n",
       "      <td>13.9190</td>\n",
       "      <td>51.0362</td>\n",
       "      <td>26.9066</td>\n",
       "      <td>10.1098</td>\n",
       "      <td>8.045927</td>\n",
       "      <td>7.303828</td>\n",
       "      <td>4.082217</td>\n",
       "      <td>0.000000</td>\n",
       "      <td>7640.899468</td>\n",
       "      <td>6.239174</td>\n",
       "      <td>6.239174</td>\n",
       "      <td>9036000000000</td>\n",
       "      <td>-999</td>\n",
       "    </tr>\n",
       "    <tr>\n",
       "      <th>109</th>\n",
       "      <td>111.0</td>\n",
       "      <td>Petitot</td>\n",
       "      <td>59.523000</td>\n",
       "      <td>-119.606000</td>\n",
       "      <td>780</td>\n",
       "      <td>01-06-2014</td>\n",
       "      <td>2014</td>\n",
       "      <td>6</td>\n",
       "      <td>1</td>\n",
       "      <td>1330</td>\n",
       "      <td>1930</td>\n",
       "      <td>-1.0</td>\n",
       "      <td>1.0</td>\n",
       "      <td>99.70</td>\n",
       "      <td>-808.929507</td>\n",
       "      <td>2672.319349</td>\n",
       "      <td>HWF058</td>\n",
       "      <td>59.972183</td>\n",
       "      <td>-118.065767</td>\n",
       "      <td>628</td>\n",
       "      <td>1243</td>\n",
       "      <td>10.0</td>\n",
       "      <td>A</td>\n",
       "      <td>702.3</td>\n",
       "      <td>C2</td>\n",
       "      <td>19.8442</td>\n",
       "      <td>39.5539</td>\n",
       "      <td>13.2868</td>\n",
       "      <td>270</td>\n",
       "      <td>0.4749</td>\n",
       "      <td>84.5882</td>\n",
       "      <td>32.7938</td>\n",
       "      <td>295.3170</td>\n",
       "      <td>7.1818</td>\n",
       "      <td>50.6877</td>\n",
       "      <td>17.0845</td>\n",
       "      <td>5.0616</td>\n",
       "      <td>-999.000000</td>\n",
       "      <td>-999.000000</td>\n",
       "      <td>-999.000000</td>\n",
       "      <td>-999.000000</td>\n",
       "      <td>-999.000000</td>\n",
       "      <td>-999.000000</td>\n",
       "      <td>-999.000000</td>\n",
       "      <td>-999</td>\n",
       "      <td>Missing photos</td>\n",
       "    </tr>\n",
       "    <tr>\n",
       "      <th>0</th>\n",
       "      <td>1.0</td>\n",
       "      <td>Keg</td>\n",
       "      <td>57.640364</td>\n",
       "      <td>-118.352715</td>\n",
       "      <td>980</td>\n",
       "      <td>20-07-2010</td>\n",
       "      <td>2010</td>\n",
       "      <td>7</td>\n",
       "      <td>20</td>\n",
       "      <td>1416</td>\n",
       "      <td>2016</td>\n",
       "      <td>-0.5</td>\n",
       "      <td>-999.0</td>\n",
       "      <td>28.60</td>\n",
       "      <td>37.530396</td>\n",
       "      <td>-999.000000</td>\n",
       "      <td>PWF104</td>\n",
       "      <td>57.593183</td>\n",
       "      <td>-117.880700</td>\n",
       "      <td>764</td>\n",
       "      <td>1426</td>\n",
       "      <td>0.2</td>\n",
       "      <td>A</td>\n",
       "      <td>0.2</td>\n",
       "      <td>C2</td>\n",
       "      <td>Wind direction</td>\n",
       "      <td>51.4254</td>\n",
       "      <td>9.7450</td>\n",
       "      <td>135</td>\n",
       "      <td>0.0933</td>\n",
       "      <td>80.6583</td>\n",
       "      <td>11.3904</td>\n",
       "      <td>310.5377</td>\n",
       "      <td>2.5130</td>\n",
       "      <td>20.6834</td>\n",
       "      <td>4.2491</td>\n",
       "      <td>0.4999</td>\n",
       "      <td>0.168448</td>\n",
       "      <td>0.197128</td>\n",
       "      <td>0.447771</td>\n",
       "      <td>0.000000</td>\n",
       "      <td>143.299052</td>\n",
       "      <td>1.066758</td>\n",
       "      <td>1.066758</td>\n",
       "      <td>32345000000</td>\n",
       "      <td>-999</td>\n",
       "    </tr>\n",
       "    <tr>\n",
       "      <th>44</th>\n",
       "      <td>46.0</td>\n",
       "      <td>Battle River</td>\n",
       "      <td>57.167680</td>\n",
       "      <td>-117.663980</td>\n",
       "      <td>674</td>\n",
       "      <td>10-07-2012</td>\n",
       "      <td>2012</td>\n",
       "      <td>7</td>\n",
       "      <td>10</td>\n",
       "      <td>1500</td>\n",
       "      <td>2100</td>\n",
       "      <td>3.0</td>\n",
       "      <td>-999.0</td>\n",
       "      <td>89.86</td>\n",
       "      <td>5024.619022</td>\n",
       "      <td>-999.000000</td>\n",
       "      <td>PWF068</td>\n",
       "      <td>57.151220</td>\n",
       "      <td>-119.153950</td>\n",
       "      <td>924</td>\n",
       "      <td>2052</td>\n",
       "      <td>2.5</td>\n",
       "      <td>A</td>\n",
       "      <td>12732.0</td>\n",
       "      <td>C2</td>\n",
       "      <td>25.6761</td>\n",
       "      <td>31.6990</td>\n",
       "      <td>17.3162</td>\n",
       "      <td>225</td>\n",
       "      <td>0.0304</td>\n",
       "      <td>91.7783</td>\n",
       "      <td>41.4618</td>\n",
       "      <td>331.0340</td>\n",
       "      <td>13.9771</td>\n",
       "      <td>62.6567</td>\n",
       "      <td>30.7545</td>\n",
       "      <td>12.2345</td>\n",
       "      <td>2.245541</td>\n",
       "      <td>2.245541</td>\n",
       "      <td>16.015935</td>\n",
       "      <td>0.937433</td>\n",
       "      <td>16006.095184</td>\n",
       "      <td>2.581339</td>\n",
       "      <td>3.331285</td>\n",
       "      <td>1346500000000</td>\n",
       "      <td>-999</td>\n",
       "    </tr>\n",
       "  </tbody>\n",
       "</table>\n",
       "</div>"
      ],
      "text/plain": [
       "        ID Observation tower  Tower latitude  Tower longitude  Tower height  \\\n",
       "33    35.0         Hotchkiss       57.333933      -118.959333           990   \n",
       "66    68.0               May       55.562298      -112.404908           866   \n",
       "109  111.0           Petitot       59.523000      -119.606000           780   \n",
       "0      1.0               Keg       57.640364      -118.352715           980   \n",
       "44    46.0      Battle River       57.167680      -117.663980           674   \n",
       "\n",
       "           Date  Year  Month  Day  Plume observation time   UTC  \\\n",
       "33   11-07-2012  2012      7   11                    1319  1919   \n",
       "66   24-05-2013  2013      5   24                    1041  1641   \n",
       "109  01-06-2014  2014      6    1                    1330  1930   \n",
       "0    20-07-2010  2010      7   20                    1416  2016   \n",
       "44   10-07-2012  2012      7   10                    1500  2100   \n",
       "\n",
       "     Equilibrium plume top angle  Maximum plume top angle  Distance  \\\n",
       "33                           3.0                      9.0     23.45   \n",
       "66                           2.0                      6.0     37.48   \n",
       "109                         -1.0                      1.0     99.70   \n",
       "0                           -0.5                   -999.0     28.60   \n",
       "44                           3.0                   -999.0     89.86   \n",
       "\n",
       "     Equilibrium plume top height  Maximum plume top height Fire name  \\\n",
       "33                    1266.315277               3753.422923    PWF068   \n",
       "66                    1714.246291               4346.963959    LWF090   \n",
       "109                   -808.929507               2672.319349    HWF058   \n",
       "0                       37.530396               -999.000000    PWF104   \n",
       "44                    5024.619022               -999.000000    PWF068   \n",
       "\n",
       "      Latitude   Longitude  Fire elevation  Fire report time  \\\n",
       "33   57.151220 -119.153950             924               600   \n",
       "66   55.898133 -112.456783             564               918   \n",
       "109  59.972183 -118.065767             628              1243   \n",
       "0    57.593183 -117.880700             764              1426   \n",
       "44   57.151220 -119.153950             924              2052   \n",
       "\n",
       "     Reported fire size Source  Maximum fire size Fuel     Temperature  \\\n",
       "33                  2.5      A            12732.0   C2         21.5714   \n",
       "66                  2.0      A              123.8   S1         19.5614   \n",
       "109                10.0      A              702.3   C2         19.8442   \n",
       "0                   0.2      A                0.2   C2  Wind direction   \n",
       "44                  2.5      A            12732.0   C2         25.6761   \n",
       "\n",
       "     Relative humidity  Wind speed  Wind direction  24 hour precipitation  \\\n",
       "33             35.1255     16.1510             270                 0.0000   \n",
       "66             33.7813     20.0897              90                 0.0000   \n",
       "109            39.5539     13.2868             270                 0.4749   \n",
       "0              51.4254      9.7450             135                 0.0933   \n",
       "44             31.6990     17.3162             225                 0.0304   \n",
       "\n",
       "        FFMC      DMC        DC      ISI      BUI      FWI      DSR  \\\n",
       "33   91.5856  44.9538  338.6180  12.6315  67.0135  29.7064  11.2966   \n",
       "66   90.2255  39.5441  192.3422  13.9190  51.0362  26.9066  10.1098   \n",
       "109  84.5882  32.7938  295.3170   7.1818  50.6877  17.0845   5.0616   \n",
       "0    80.6583  11.3904  310.5377   2.5130  20.6834   4.2491   0.4999   \n",
       "44   91.7783  41.4618  331.0340  13.9771  62.6567  30.7545  12.2345   \n",
       "\n",
       "     Daily growth  Hourly growth         ROS         CFB           HFI  \\\n",
       "33     156.360993     116.790387   11.725492    0.836825  11850.661642   \n",
       "66       8.045927       7.303828    4.082217    0.000000   7640.899468   \n",
       "109   -999.000000    -999.000000 -999.000000 -999.000000   -999.000000   \n",
       "0        0.168448       0.197128    0.447771    0.000000    143.299052   \n",
       "44       2.245541       2.245541   16.015935    0.937433  16006.095184   \n",
       "\n",
       "            SFC         TFC               Q           Notes  \n",
       "33     2.699456    3.368917  91243000000000            -999  \n",
       "66     6.239174    6.239174   9036000000000            -999  \n",
       "109 -999.000000 -999.000000            -999  Missing photos  \n",
       "0      1.066758    1.066758     32345000000            -999  \n",
       "44     2.581339    3.331285   1346500000000            -999  "
      ]
     },
     "execution_count": 7,
     "metadata": {},
     "output_type": "execute_result"
    }
   ],
   "source": [
    "df.sample(5)"
   ]
  },
  {
   "cell_type": "code",
   "execution_count": null,
   "metadata": {},
   "outputs": [],
   "source": [
    "'Equilibrium plume top angle','Equilibrium plume top height','Maximum plume top height',\n",
    "'Fire elevation','Temperature','Relative humidity','Wind speed','Wind direction','24 hour precipitation',\n",
    "'FFMC','DMC','DC','ISI','BUI','FWI','DSR'"
   ]
  },
  {
   "cell_type": "code",
   "execution_count": 36,
   "metadata": {},
   "outputs": [],
   "source": [
    "df['SIZE_ACRES']=df['Reported fire size'] / 2.471"
   ]
  },
  {
   "cell_type": "code",
   "execution_count": 121,
   "metadata": {},
   "outputs": [
    {
     "data": {
      "text/plain": [
       "Class B    100\n",
       "Class C     44\n",
       "Class A     25\n",
       "Class E     17\n",
       "Class D     16\n",
       "Class F     15\n",
       "Class G      3\n",
       "Name: FIRE_SIZE, dtype: int64"
      ]
     },
     "execution_count": 121,
     "metadata": {},
     "output_type": "execute_result"
    }
   ],
   "source": [
    "df['SIZE_ACRES']=df['Reported fire size'] / 2.471\n",
    "df.loc[df[\"SIZE_ACRES\"] <= 1/4,\"FIRE_SIZE\"] = \"Class A\"\n",
    "df.loc[(df[\"SIZE_ACRES\"] <=10) & (df[\"SIZE_ACRES\"] > 1/4),\"FIRE_SIZE\"] = \"Class B\"\n",
    "df.loc[(df[\"SIZE_ACRES\"] <=100) & (df[\"SIZE_ACRES\"] > 10),\"FIRE_SIZE\"] = \"Class C\"\n",
    "df.loc[(df[\"SIZE_ACRES\"] <=300) & (df[\"SIZE_ACRES\"] > 100),\"FIRE_SIZE\"] = \"Class D\"\n",
    "df.loc[(df[\"SIZE_ACRES\"] <=1000) & (df[\"SIZE_ACRES\"] > 300),\"FIRE_SIZE\"] = \"Class E\"\n",
    "df.loc[(df[\"SIZE_ACRES\"] <=5000) & (df[\"SIZE_ACRES\"] > 1000),\"FIRE_SIZE\"] = \"Class F\"\n",
    "df.loc[df[\"SIZE_ACRES\"] > 5000,\"FIRE_SIZE\"] = \"Class G\"\n",
    "df[\"FIRE_SIZE\"].value_counts()"
   ]
  },
  {
   "cell_type": "code",
   "execution_count": 128,
   "metadata": {},
   "outputs": [
    {
     "data": {
      "text/plain": [
       "Class B    100\n",
       "Class D     51\n",
       "Class C     44\n",
       "Class A     25\n",
       "Name: FIRE_SIZE, dtype: int64"
      ]
     },
     "execution_count": 128,
     "metadata": {},
     "output_type": "execute_result"
    }
   ],
   "source": [
    "df['SIZE_ACRES']=df['Reported fire size'] / 2.471\n",
    "df.loc[df[\"SIZE_ACRES\"] <= 1/4,\"FIRE_SIZE\"] = \"Class A\"\n",
    "df.loc[(df[\"SIZE_ACRES\"] <=10) & (df[\"SIZE_ACRES\"] > 1/4),\"FIRE_SIZE\"] = \"Class B\"\n",
    "df.loc[(df[\"SIZE_ACRES\"] <=100) & (df[\"SIZE_ACRES\"] > 10),\"FIRE_SIZE\"] = \"Class C\"\n",
    "df.loc[(df[\"SIZE_ACRES\"] > 100),\"FIRE_SIZE\"] = \"Class D\"\n",
    "df[\"FIRE_SIZE\"].value_counts()"
   ]
  },
  {
   "cell_type": "code",
   "execution_count": 81,
   "metadata": {},
   "outputs": [
    {
     "data": {
      "text/plain": [
       "2    100\n",
       "3     95\n",
       "1     25\n",
       "Name: FIRE_SIZE, dtype: int64"
      ]
     },
     "execution_count": 81,
     "metadata": {},
     "output_type": "execute_result"
    }
   ],
   "source": [
    "df['SIZE_ACRES']=df['Reported fire size'] / 2.471\n",
    "df.loc[df[\"SIZE_ACRES\"] <= 1/4,\"FIRE_SIZE\"] = 1\n",
    "df.loc[(df[\"SIZE_ACRES\"] <=10) & (df[\"SIZE_ACRES\"] > 1/4),\"FIRE_SIZE\"] = 2\n",
    "df.loc[(df[\"SIZE_ACRES\"] > 10),\"FIRE_SIZE\"] = 3\n",
    "df[\"FIRE_SIZE\"].value_counts()"
   ]
  },
  {
   "cell_type": "code",
   "execution_count": 38,
   "metadata": {},
   "outputs": [
    {
     "data": {
      "text/plain": [
       "0.1856331820180797"
      ]
     },
     "execution_count": 38,
     "metadata": {},
     "output_type": "execute_result"
    }
   ],
   "source": [
    "x = df['Fire elevation']\n",
    "y = df['FIRE_SIZE']\n",
    "r = x.corr(y,method=\"kendall\") \n",
    "r"
   ]
  },
  {
   "cell_type": "code",
   "execution_count": 39,
   "metadata": {},
   "outputs": [
    {
     "data": {
      "text/plain": [
       "0.21319685028176383"
      ]
     },
     "execution_count": 39,
     "metadata": {},
     "output_type": "execute_result"
    }
   ],
   "source": [
    "x = df['Maximum plume top height']\n",
    "y = df['FIRE_SIZE']\n",
    "r = x.corr(y,method=\"kendall\") \n",
    "r"
   ]
  },
  {
   "cell_type": "code",
   "execution_count": 40,
   "metadata": {},
   "outputs": [
    {
     "data": {
      "text/plain": [
       "0.26637170554624584"
      ]
     },
     "execution_count": 40,
     "metadata": {},
     "output_type": "execute_result"
    }
   ],
   "source": [
    "x = df['Temperature']\n",
    "y = df['FIRE_SIZE']\n",
    "r = x.corr(y,method=\"kendall\") \n",
    "r"
   ]
  },
  {
   "cell_type": "code",
   "execution_count": 41,
   "metadata": {},
   "outputs": [
    {
     "data": {
      "text/plain": [
       "-0.036119115185880464"
      ]
     },
     "execution_count": 41,
     "metadata": {},
     "output_type": "execute_result"
    }
   ],
   "source": [
    "x = df['Relative humidity']\n",
    "y = df['FIRE_SIZE']\n",
    "r = x.corr(y,method=\"kendall\") \n",
    "r"
   ]
  },
  {
   "cell_type": "code",
   "execution_count": 42,
   "metadata": {},
   "outputs": [
    {
     "data": {
      "text/plain": [
       "0.07835736083053828"
      ]
     },
     "execution_count": 42,
     "metadata": {},
     "output_type": "execute_result"
    }
   ],
   "source": [
    "x = df['Wind speed']\n",
    "y = df['FIRE_SIZE']\n",
    "r = x.corr(y,method=\"kendall\") \n",
    "r"
   ]
  },
  {
   "cell_type": "code",
   "execution_count": 43,
   "metadata": {},
   "outputs": [
    {
     "data": {
      "text/plain": [
       "0.1890642637312401"
      ]
     },
     "execution_count": 43,
     "metadata": {},
     "output_type": "execute_result"
    }
   ],
   "source": [
    "x = df['Wind direction']\n",
    "y = df['FIRE_SIZE']\n",
    "r = x.corr(y,method=\"kendall\") \n",
    "r"
   ]
  },
  {
   "cell_type": "code",
   "execution_count": 44,
   "metadata": {},
   "outputs": [
    {
     "data": {
      "text/plain": [
       "0.11656650943694889"
      ]
     },
     "execution_count": 44,
     "metadata": {},
     "output_type": "execute_result"
    }
   ],
   "source": [
    "x = df['24 hour precipitation']\n",
    "y = df['FIRE_SIZE']\n",
    "r = x.corr(y,method=\"kendall\") \n",
    "r"
   ]
  },
  {
   "cell_type": "code",
   "execution_count": 45,
   "metadata": {},
   "outputs": [
    {
     "data": {
      "text/plain": [
       "0.06752704143447218"
      ]
     },
     "execution_count": 45,
     "metadata": {},
     "output_type": "execute_result"
    }
   ],
   "source": [
    "x = df['FFMC']\n",
    "y = df['FIRE_SIZE']\n",
    "r = x.corr(y,method=\"kendall\") \n",
    "r"
   ]
  },
  {
   "cell_type": "code",
   "execution_count": 65,
   "metadata": {},
   "outputs": [
    {
     "data": {
      "text/plain": [
       "0.2612814554300948"
      ]
     },
     "execution_count": 65,
     "metadata": {},
     "output_type": "execute_result"
    }
   ],
   "source": [
    "x = df['DMC']\n",
    "y = df['FIRE_SIZE']\n",
    "r = x.corr(y,method=\"kendall\") \n",
    "r"
   ]
  },
  {
   "cell_type": "code",
   "execution_count": 47,
   "metadata": {},
   "outputs": [
    {
     "data": {
      "text/plain": [
       "0.20333924666114114"
      ]
     },
     "execution_count": 47,
     "metadata": {},
     "output_type": "execute_result"
    }
   ],
   "source": [
    "x = df['DC']\n",
    "y = df['FIRE_SIZE']\n",
    "r = x.corr(y,method=\"kendall\") \n",
    "r"
   ]
  },
  {
   "cell_type": "code",
   "execution_count": 48,
   "metadata": {},
   "outputs": [
    {
     "data": {
      "text/plain": [
       "0.03254510978517865"
      ]
     },
     "execution_count": 48,
     "metadata": {},
     "output_type": "execute_result"
    }
   ],
   "source": [
    "x = df['ISI']\n",
    "y = df['FIRE_SIZE']\n",
    "r = x.corr(y,method=\"kendall\") \n",
    "r"
   ]
  },
  {
   "cell_type": "code",
   "execution_count": 49,
   "metadata": {},
   "outputs": [
    {
     "data": {
      "text/plain": [
       "0.2856496740712436"
      ]
     },
     "execution_count": 49,
     "metadata": {},
     "output_type": "execute_result"
    }
   ],
   "source": [
    "x = df['BUI']\n",
    "y = df['FIRE_SIZE']\n",
    "r = x.corr(y,method=\"kendall\") \n",
    "r"
   ]
  },
  {
   "cell_type": "code",
   "execution_count": 50,
   "metadata": {},
   "outputs": [
    {
     "data": {
      "text/plain": [
       "0.10716601042407412"
      ]
     },
     "execution_count": 50,
     "metadata": {},
     "output_type": "execute_result"
    }
   ],
   "source": [
    "x = df['FWI']\n",
    "y = df['FIRE_SIZE']\n",
    "r = x.corr(y,method=\"kendall\") \n",
    "r"
   ]
  },
  {
   "cell_type": "code",
   "execution_count": 51,
   "metadata": {},
   "outputs": [
    {
     "data": {
      "text/plain": [
       "0.1208122128631174"
      ]
     },
     "execution_count": 51,
     "metadata": {},
     "output_type": "execute_result"
    }
   ],
   "source": [
    "x = df['DSR']\n",
    "y = df['FIRE_SIZE']\n",
    "r = x.corr(y,method=\"kendall\") \n",
    "r"
   ]
  },
  {
   "cell_type": "code",
   "execution_count": 52,
   "metadata": {},
   "outputs": [
    {
     "data": {
      "text/plain": [
       "0.5063270823634413"
      ]
     },
     "execution_count": 52,
     "metadata": {},
     "output_type": "execute_result"
    }
   ],
   "source": [
    "x = df['Daily growth']\n",
    "y = df['FIRE_SIZE']\n",
    "r = x.corr(y,method=\"kendall\") \n",
    "r"
   ]
  },
  {
   "cell_type": "code",
   "execution_count": 53,
   "metadata": {},
   "outputs": [
    {
     "data": {
      "text/plain": [
       "0.4288931217653481"
      ]
     },
     "execution_count": 53,
     "metadata": {},
     "output_type": "execute_result"
    }
   ],
   "source": [
    "x = df['Hourly growth']\n",
    "y = df['FIRE_SIZE']\n",
    "r = x.corr(y,method=\"kendall\") \n",
    "r"
   ]
  },
  {
   "cell_type": "markdown",
   "metadata": {},
   "source": [
    "# Tree-based feature selection"
   ]
  },
  {
   "cell_type": "code",
   "execution_count": 54,
   "metadata": {},
   "outputs": [],
   "source": [
    "from sklearn.feature_selection import SelectFromModel\n",
    "from sklearn.ensemble import GradientBoostingClassifier\n",
    "from sklearn.ensemble import RandomForestClassifier\n",
    "from sklearn.linear_model import LogisticRegression"
   ]
  },
  {
   "cell_type": "code",
   "execution_count": 179,
   "metadata": {},
   "outputs": [],
   "source": [
    "a = df[['Fire elevation','Temperature','Relative humidity','Wind speed','Wind direction','24 hour precipitation',\n",
    "        'FFMC','DMC','DC','ISI','BUI','FWI','DSR']]\n",
    "b = df['FIRE_SIZE']\n",
    "a = a.values.tolist()\n",
    "b = b.values.tolist()"
   ]
  },
  {
   "cell_type": "code",
   "execution_count": 180,
   "metadata": {},
   "outputs": [
    {
     "data": {
      "text/plain": [
       "array([ True,  True, False,  True, False, False, False,  True,  True,\n",
       "       False,  True, False, False])"
      ]
     },
     "execution_count": 180,
     "metadata": {},
     "output_type": "execute_result"
    }
   ],
   "source": [
    "rf= RandomForestClassifier(n_estimators=500, n_jobs=1)\n",
    "\n",
    "FS = SelectFromModel(rf).fit(a, b)\n",
    "FS.get_support()"
   ]
  },
  {
   "cell_type": "code",
   "execution_count": 181,
   "metadata": {},
   "outputs": [
    {
     "data": {
      "text/plain": [
       "array([0.11626057, 0.11463072, 0.04856732, 0.08796051, 0.04328193,\n",
       "       0.06580858, 0.05259982, 0.08998498, 0.08166991, 0.07016152,\n",
       "       0.10399129, 0.05315391, 0.07192895])"
      ]
     },
     "execution_count": 181,
     "metadata": {},
     "output_type": "execute_result"
    }
   ],
   "source": [
    "FS.estimator_.feature_importances_"
   ]
  },
  {
   "cell_type": "code",
   "execution_count": null,
   "metadata": {},
   "outputs": [],
   "source": [
    "'Fire elevation','Temperature','Wind speed','DMC','DC','BUI'"
   ]
  },
  {
   "cell_type": "code",
   "execution_count": null,
   "metadata": {},
   "outputs": [],
   "source": []
  },
  {
   "cell_type": "markdown",
   "metadata": {},
   "source": [
    "# feature extraction"
   ]
  },
  {
   "cell_type": "code",
   "execution_count": 131,
   "metadata": {},
   "outputs": [],
   "source": [
    "from sklearn.model_selection import train_test_split\n",
    "from sklearn.feature_extraction import DictVectorizer\n",
    "from sklearn.preprocessing import StandardScaler"
   ]
  },
  {
   "cell_type": "code",
   "execution_count": 272,
   "metadata": {},
   "outputs": [],
   "source": [
    "x = df[['Fire elevation','Temperature','Wind speed','DMC','DC','BUI']]\n",
    "y = df['FIRE_SIZE']\n",
    "\n",
    "x_train, x_test, y_train, y_test = train_test_split(x, y,random_state=6)\n",
    "\n",
    "transfer = StandardScaler()\n",
    "x_train = transfer.fit_transform(x_train)\n",
    "x_test = transfer.transform(x_test)"
   ]
  },
  {
   "cell_type": "code",
   "execution_count": null,
   "metadata": {},
   "outputs": [],
   "source": []
  },
  {
   "cell_type": "markdown",
   "metadata": {},
   "source": [
    "# decision tree"
   ]
  },
  {
   "cell_type": "code",
   "execution_count": 115,
   "metadata": {},
   "outputs": [],
   "source": [
    "from sklearn.tree import DecisionTreeClassifier\n",
    "from sklearn.tree import export_graphviz\n",
    "from sklearn.model_selection import GridSearchCV\n",
    "from sklearn.metrics import roc_curve, auc, roc_auc_score"
   ]
  },
  {
   "cell_type": "code",
   "execution_count": 273,
   "metadata": {
    "scrolled": true
   },
   "outputs": [
    {
     "name": "stdout",
     "output_type": "stream",
     "text": [
      "y_predict: \n",
      " ['Class C' 'Class D' 'Class B' 'Class C' 'Class D' 'Class B' 'Class B'\n",
      " 'Class A' 'Class D' 'Class D' 'Class B' 'Class B' 'Class D' 'Class B'\n",
      " 'Class B' 'Class D' 'Class C' 'Class A' 'Class A' 'Class C' 'Class C'\n",
      " 'Class B' 'Class D' 'Class D' 'Class B' 'Class D' 'Class B' 'Class D'\n",
      " 'Class B' 'Class A' 'Class B' 'Class D' 'Class C' 'Class B' 'Class D'\n",
      " 'Class D' 'Class C' 'Class D' 'Class B' 'Class C' 'Class B' 'Class B'\n",
      " 'Class C' 'Class D' 'Class D' 'Class B' 'Class C' 'Class D' 'Class A'\n",
      " 'Class B' 'Class C' 'Class C' 'Class B' 'Class B' 'Class A']\n",
      "直接比对真实值和预测值: \n",
      " 90      True\n",
      "52     False\n",
      "49      True\n",
      "134     True\n",
      "13      True\n",
      "188     True\n",
      "19     False\n",
      "174    False\n",
      "136    False\n",
      "197     True\n",
      "182     True\n",
      "187     True\n",
      "54     False\n",
      "99      True\n",
      "6       True\n",
      "11      True\n",
      "176     True\n",
      "87      True\n",
      "21      True\n",
      "148     True\n",
      "160     True\n",
      "59      True\n",
      "146    False\n",
      "165    False\n",
      "64      True\n",
      "162     True\n",
      "120     True\n",
      "12      True\n",
      "30      True\n",
      "56     False\n",
      "65      True\n",
      "4       True\n",
      "149     True\n",
      "168    False\n",
      "115    False\n",
      "53     False\n",
      "93      True\n",
      "178    False\n",
      "74      True\n",
      "96      True\n",
      "83      True\n",
      "112     True\n",
      "159     True\n",
      "206     True\n",
      "210     True\n",
      "107     True\n",
      "131     True\n",
      "215     True\n",
      "126     True\n",
      "118     True\n",
      "145     True\n",
      "158     True\n",
      "58      True\n",
      "81      True\n",
      "84      True\n",
      "Name: FIRE_SIZE, dtype: bool\n",
      "准确率为: \n",
      " 0.7818181818181819\n",
      "最佳参数: \n",
      " {'max_depth': 15}\n",
      "最佳结果: \n",
      " 0.8060606060606061\n",
      "最佳估计器: \n",
      " DecisionTreeClassifier(max_depth=15)\n",
      "交叉验证结果: \n",
      " {'mean_fit_time': array([0.0029966 , 0.00133451, 0.00066145, 0.00099516, 0.00067012,\n",
      "       0.00100303, 0.00099484]), 'std_fit_time': array([2.81530237e-03, 4.73337297e-04, 4.67738135e-04, 7.08067055e-06,\n",
      "       4.73870000e-04, 5.96523094e-06, 6.20906353e-06]), 'mean_score_time': array([0.00067067, 0.00066058, 0.00067576, 0.00033339, 0.00033323,\n",
      "       0.00033371, 0.00067107]), 'std_score_time': array([0.00047427, 0.00046716, 0.00047783, 0.00047148, 0.00047126,\n",
      "       0.00047193, 0.00047455]), 'param_max_depth': masked_array(data=[3, 5, 8, 10, 15, 25, 30],\n",
      "             mask=[False, False, False, False, False, False, False],\n",
      "       fill_value='?',\n",
      "            dtype=object), 'params': [{'max_depth': 3}, {'max_depth': 5}, {'max_depth': 8}, {'max_depth': 10}, {'max_depth': 15}, {'max_depth': 25}, {'max_depth': 30}], 'split0_test_score': array([0.63636364, 0.61818182, 0.69090909, 0.72727273, 0.76363636,\n",
      "       0.76363636, 0.8       ]), 'split1_test_score': array([0.70909091, 0.85454545, 0.85454545, 0.85454545, 0.83636364,\n",
      "       0.83636364, 0.83636364]), 'split2_test_score': array([0.6       , 0.70909091, 0.78181818, 0.81818182, 0.81818182,\n",
      "       0.81818182, 0.78181818]), 'mean_test_score': array([0.64848485, 0.72727273, 0.77575758, 0.8       , 0.80606061,\n",
      "       0.80606061, 0.80606061]), 'std_test_score': array([0.04535342, 0.09734775, 0.06694158, 0.05352582, 0.03090315,\n",
      "       0.03090315, 0.02267671]), 'rank_test_score': array([7, 6, 5, 4, 1, 1, 3])}\n"
     ]
    }
   ],
   "source": [
    "\n",
    "estimator = DecisionTreeClassifier() \n",
    "\n",
    "param_dict = {'max_depth': [3, 5, 8, 10, 15, 25, 30]}\n",
    "estimator = GridSearchCV(estimator, param_grid=param_dict, cv=3)\n",
    "estimator.fit(x_train, y_train)\n",
    "\n",
    "\n",
    "y_predict = estimator.predict(x_test)\n",
    "print('y_predict: \\n', y_predict)\n",
    "print('直接比对真实值和预测值: \\n', y_test == y_predict)\n",
    "\n",
    "score = estimator.score(x_test, y_test)\n",
    "print('准确率为: \\n', score)\n",
    "print('最佳参数: \\n', estimator.best_params_)\n",
    "print('最佳结果: \\n', estimator.best_score_)    \n",
    "print('最佳估计器: \\n', estimator.best_estimator_)    \n",
    "print('交叉验证结果: \\n', estimator.cv_results_)  "
   ]
  },
  {
   "cell_type": "code",
   "execution_count": 274,
   "metadata": {},
   "outputs": [
    {
     "name": "stdout",
     "output_type": "stream",
     "text": [
      "              precision    recall  f1-score   support\n",
      "\n",
      "     Class A       0.67      0.67      0.67         6\n",
      "     Class B       0.90      0.75      0.82        24\n",
      "     Class C       1.00      0.80      0.89        15\n",
      "     Class D       0.53      0.90      0.67        10\n",
      "\n",
      "    accuracy                           0.78        55\n",
      "   macro avg       0.77      0.78      0.76        55\n",
      "weighted avg       0.83      0.78      0.79        55\n",
      "\n"
     ]
    }
   ],
   "source": [
    "from sklearn.metrics import classification_report\n",
    "report = classification_report(y_test, y_predict)\n",
    "print(report)"
   ]
  },
  {
   "cell_type": "code",
   "execution_count": 116,
   "metadata": {},
   "outputs": [
    {
     "data": {
      "text/plain": [
       "0.7295918367346939"
      ]
     },
     "execution_count": 116,
     "metadata": {},
     "output_type": "execute_result"
    }
   ],
   "source": [
    "y_true = np.where(y_test!='Class A',0,1) \n",
    "y_predict_ = np.where(y_predict!='Class A',0,1)\n",
    "roc_auc_score(y_true, y_predict_)"
   ]
  },
  {
   "cell_type": "code",
   "execution_count": null,
   "metadata": {},
   "outputs": [],
   "source": []
  },
  {
   "cell_type": "markdown",
   "metadata": {},
   "source": [
    "# random forest"
   ]
  },
  {
   "cell_type": "code",
   "execution_count": 118,
   "metadata": {},
   "outputs": [],
   "source": [
    "from sklearn.ensemble import RandomForestClassifier\n",
    "from sklearn.model_selection import GridSearchCV"
   ]
  },
  {
   "cell_type": "code",
   "execution_count": 275,
   "metadata": {},
   "outputs": [
    {
     "name": "stdout",
     "output_type": "stream",
     "text": [
      "y_predict: \n",
      " ['Class C' 'Class D' 'Class B' 'Class C' 'Class D' 'Class B' 'Class D'\n",
      " 'Class B' 'Class D' 'Class D' 'Class B' 'Class B' 'Class D' 'Class B'\n",
      " 'Class B' 'Class D' 'Class C' 'Class A' 'Class B' 'Class C' 'Class C'\n",
      " 'Class B' 'Class D' 'Class D' 'Class B' 'Class D' 'Class B' 'Class D'\n",
      " 'Class B' 'Class B' 'Class B' 'Class D' 'Class C' 'Class A' 'Class B'\n",
      " 'Class D' 'Class C' 'Class D' 'Class B' 'Class C' 'Class B' 'Class B'\n",
      " 'Class C' 'Class D' 'Class D' 'Class B' 'Class C' 'Class D' 'Class A'\n",
      " 'Class B' 'Class C' 'Class C' 'Class B' 'Class B' 'Class B']\n",
      "直接比对真实值和预测值: \n",
      " 90      True\n",
      "52     False\n",
      "49      True\n",
      "134     True\n",
      "13      True\n",
      "188     True\n",
      "19      True\n",
      "174     True\n",
      "136    False\n",
      "197     True\n",
      "182     True\n",
      "187     True\n",
      "54     False\n",
      "99      True\n",
      "6       True\n",
      "11      True\n",
      "176     True\n",
      "87      True\n",
      "21     False\n",
      "148     True\n",
      "160     True\n",
      "59      True\n",
      "146    False\n",
      "165    False\n",
      "64      True\n",
      "162     True\n",
      "120     True\n",
      "12      True\n",
      "30      True\n",
      "56      True\n",
      "65      True\n",
      "4       True\n",
      "149     True\n",
      "168     True\n",
      "115     True\n",
      "53     False\n",
      "93      True\n",
      "178    False\n",
      "74      True\n",
      "96      True\n",
      "83      True\n",
      "112     True\n",
      "159     True\n",
      "206     True\n",
      "210     True\n",
      "107     True\n",
      "131     True\n",
      "215     True\n",
      "126     True\n",
      "118     True\n",
      "145     True\n",
      "158     True\n",
      "58      True\n",
      "81      True\n",
      "84     False\n",
      "Name: FIRE_SIZE, dtype: bool\n",
      "准确率为: \n",
      " 0.8363636363636363\n",
      "最佳参数: \n",
      " {'max_depth': 30, 'n_estimators': 1200}\n",
      "最佳结果: \n",
      " 0.8484848484848485\n",
      "最佳估计器: \n",
      " RandomForestClassifier(max_depth=30, n_estimators=1200)\n",
      "交叉验证结果: \n",
      " {'mean_fit_time': array([0.15658307, 0.26018159, 0.37945088, 0.60999139, 0.95945191,\n",
      "       1.40385389, 0.14158193, 0.23652871, 0.355455  , 0.58766206,\n",
      "       0.94311706, 1.411853  , 0.1385928 , 0.23520096, 0.35246245,\n",
      "       0.58899395, 1.06005669, 1.54777559, 0.14258011, 0.24086094,\n",
      "       0.36811638, 0.59166217, 0.94579005, 1.43484553, 0.13658245,\n",
      "       0.22754145, 0.35045942, 0.58899244, 0.94045941, 1.48081454]), 'std_fit_time': array([1.10826609e-02, 1.31000994e-02, 1.46259503e-02, 6.93205387e-03,\n",
      "       3.62370395e-02, 7.35617950e-03, 1.25441003e-03, 1.71140143e-03,\n",
      "       1.25238167e-03, 5.88444432e-03, 1.87971061e-03, 5.43106098e-03,\n",
      "       1.70770249e-03, 9.41450021e-04, 2.05340653e-03, 3.85154364e-03,\n",
      "       7.59845924e-02, 7.94342614e-02, 2.48468220e-03, 1.18411894e-06,\n",
      "       1.61940231e-02, 7.25055209e-03, 5.74339251e-03, 1.15597702e-02,\n",
      "       9.33075761e-04, 2.62915098e-03, 6.23256860e-03, 1.17331018e-02,\n",
      "       2.29663524e-02, 1.82606849e-02]), 'mean_score_time': array([0.01099579, 0.01766213, 0.02531195, 0.04229887, 0.06429625,\n",
      "       0.09528446, 0.01033012, 0.01699185, 0.02499096, 0.04064298,\n",
      "       0.06496922, 0.09727112, 0.00999705, 0.01632222, 0.02464732,\n",
      "       0.04031006, 0.06862466, 0.10326902, 0.01099364, 0.0166618 ,\n",
      "       0.02464565, 0.04231342, 0.06662885, 0.09993696, 0.00999355,\n",
      "       0.01599042, 0.02465645, 0.03997795, 0.06429593, 0.10027234]), 'std_score_time': array([1.42125113e-03, 9.37821662e-04, 4.75964264e-04, 9.44343163e-04,\n",
      "       4.71033219e-04, 4.79294050e-04, 4.59989393e-04, 1.85701393e-06,\n",
      "       4.86410260e-06, 4.74070989e-04, 6.59097898e-06, 4.75989914e-04,\n",
      "       4.10344780e-06, 4.72159663e-04, 4.67922660e-04, 4.73618346e-04,\n",
      "       5.90230712e-03, 4.78460886e-03, 2.24783192e-07, 4.74733414e-04,\n",
      "       4.80361681e-04, 9.42149347e-04, 4.71145933e-04, 4.31253257e-03,\n",
      "       1.34869915e-06, 4.05233662e-07, 4.75222928e-04, 9.60274217e-07,\n",
      "       1.88402032e-03, 4.78080270e-03]), 'param_max_depth': masked_array(data=[5, 5, 5, 5, 5, 5, 8, 8, 8, 8, 8, 8, 15, 15, 15, 15, 15,\n",
      "                   15, 25, 25, 25, 25, 25, 25, 30, 30, 30, 30, 30, 30],\n",
      "             mask=[False, False, False, False, False, False, False, False,\n",
      "                   False, False, False, False, False, False, False, False,\n",
      "                   False, False, False, False, False, False, False, False,\n",
      "                   False, False, False, False, False, False],\n",
      "       fill_value='?',\n",
      "            dtype=object), 'param_n_estimators': masked_array(data=[120, 200, 300, 500, 800, 1200, 120, 200, 300, 500, 800,\n",
      "                   1200, 120, 200, 300, 500, 800, 1200, 120, 200, 300,\n",
      "                   500, 800, 1200, 120, 200, 300, 500, 800, 1200],\n",
      "             mask=[False, False, False, False, False, False, False, False,\n",
      "                   False, False, False, False, False, False, False, False,\n",
      "                   False, False, False, False, False, False, False, False,\n",
      "                   False, False, False, False, False, False],\n",
      "       fill_value='?',\n",
      "            dtype=object), 'params': [{'max_depth': 5, 'n_estimators': 120}, {'max_depth': 5, 'n_estimators': 200}, {'max_depth': 5, 'n_estimators': 300}, {'max_depth': 5, 'n_estimators': 500}, {'max_depth': 5, 'n_estimators': 800}, {'max_depth': 5, 'n_estimators': 1200}, {'max_depth': 8, 'n_estimators': 120}, {'max_depth': 8, 'n_estimators': 200}, {'max_depth': 8, 'n_estimators': 300}, {'max_depth': 8, 'n_estimators': 500}, {'max_depth': 8, 'n_estimators': 800}, {'max_depth': 8, 'n_estimators': 1200}, {'max_depth': 15, 'n_estimators': 120}, {'max_depth': 15, 'n_estimators': 200}, {'max_depth': 15, 'n_estimators': 300}, {'max_depth': 15, 'n_estimators': 500}, {'max_depth': 15, 'n_estimators': 800}, {'max_depth': 15, 'n_estimators': 1200}, {'max_depth': 25, 'n_estimators': 120}, {'max_depth': 25, 'n_estimators': 200}, {'max_depth': 25, 'n_estimators': 300}, {'max_depth': 25, 'n_estimators': 500}, {'max_depth': 25, 'n_estimators': 800}, {'max_depth': 25, 'n_estimators': 1200}, {'max_depth': 30, 'n_estimators': 120}, {'max_depth': 30, 'n_estimators': 200}, {'max_depth': 30, 'n_estimators': 300}, {'max_depth': 30, 'n_estimators': 500}, {'max_depth': 30, 'n_estimators': 800}, {'max_depth': 30, 'n_estimators': 1200}], 'split0_test_score': array([0.81818182, 0.78181818, 0.74545455, 0.78181818, 0.76363636,\n",
      "       0.78181818, 0.83636364, 0.83636364, 0.74545455, 0.76363636,\n",
      "       0.78181818, 0.78181818, 0.78181818, 0.8       , 0.83636364,\n",
      "       0.85454545, 0.76363636, 0.83636364, 0.83636364, 0.83636364,\n",
      "       0.78181818, 0.76363636, 0.78181818, 0.76363636, 0.74545455,\n",
      "       0.83636364, 0.78181818, 0.85454545, 0.76363636, 0.85454545]), 'split1_test_score': array([0.85454545, 0.83636364, 0.87272727, 0.87272727, 0.87272727,\n",
      "       0.85454545, 0.85454545, 0.85454545, 0.83636364, 0.85454545,\n",
      "       0.85454545, 0.85454545, 0.83636364, 0.85454545, 0.87272727,\n",
      "       0.85454545, 0.83636364, 0.87272727, 0.83636364, 0.89090909,\n",
      "       0.83636364, 0.85454545, 0.87272727, 0.87272727, 0.87272727,\n",
      "       0.85454545, 0.87272727, 0.85454545, 0.85454545, 0.87272727]), 'split2_test_score': array([0.72727273, 0.72727273, 0.74545455, 0.72727273, 0.72727273,\n",
      "       0.72727273, 0.8       , 0.78181818, 0.8       , 0.78181818,\n",
      "       0.78181818, 0.78181818, 0.78181818, 0.76363636, 0.8       ,\n",
      "       0.8       , 0.78181818, 0.78181818, 0.78181818, 0.76363636,\n",
      "       0.8       , 0.76363636, 0.76363636, 0.78181818, 0.81818182,\n",
      "       0.78181818, 0.8       , 0.78181818, 0.76363636, 0.81818182]), 'mean_test_score': array([0.8       , 0.78181818, 0.78787879, 0.79393939, 0.78787879,\n",
      "       0.78787879, 0.83030303, 0.82424242, 0.79393939, 0.8       ,\n",
      "       0.80606061, 0.80606061, 0.8       , 0.80606061, 0.83636364,\n",
      "       0.83636364, 0.79393939, 0.83030303, 0.81818182, 0.83030303,\n",
      "       0.80606061, 0.79393939, 0.80606061, 0.80606061, 0.81212121,\n",
      "       0.82424242, 0.81818182, 0.83030303, 0.79393939, 0.84848485]), 'std_test_score': array([0.05352582, 0.04453618, 0.05999694, 0.05999694, 0.0618063 ,\n",
      "       0.0521353 , 0.02267671, 0.03090315, 0.03736008, 0.03927722,\n",
      "       0.03428397, 0.03428397, 0.02571297, 0.03736008, 0.02969078,\n",
      "       0.02571297, 0.03090315, 0.03736008, 0.02571297, 0.0521353 ,\n",
      "       0.02267671, 0.04285496, 0.04772126, 0.04772126, 0.0521353 ,\n",
      "       0.03090315, 0.03927722, 0.03428397, 0.04285496, 0.02267671]), 'rank_test_score': array([19, 30, 27, 22, 28, 28,  4,  8, 22, 20, 13, 13, 20, 13,  2,  2, 22,\n",
      "        5, 10,  5, 13, 22, 13, 13, 12,  8, 10,  5, 22,  1])}\n"
     ]
    }
   ],
   "source": [
    "estimator = RandomForestClassifier()\n",
    "\n",
    "param_dict = {'n_estimators': [120, 200, 300, 500, 800, 1200],'max_depth': [5, 8, 15, 25, 30]}\n",
    "estimator = GridSearchCV(estimator, param_grid=param_dict, cv=3)\n",
    "estimator.fit(x_train, y_train)\n",
    "\n",
    "\n",
    "y_predict = estimator.predict(x_test)\n",
    "print('y_predict: \\n', y_predict)\n",
    "print('直接比对真实值和预测值: \\n', y_test == y_predict)\n",
    "\n",
    "score = estimator.score(x_test, y_test)\n",
    "print('准确率为: \\n', score)\n",
    "print('最佳参数: \\n', estimator.best_params_)\n",
    "\n",
    "print('最佳结果: \\n', estimator.best_score_)    \n",
    "print('最佳估计器: \\n', estimator.best_estimator_)    \n",
    "print('交叉验证结果: \\n', estimator.cv_results_)  "
   ]
  },
  {
   "cell_type": "code",
   "execution_count": 276,
   "metadata": {},
   "outputs": [
    {
     "name": "stdout",
     "output_type": "stream",
     "text": [
      "              precision    recall  f1-score   support\n",
      "\n",
      "     Class A       1.00      0.50      0.67         6\n",
      "     Class B       0.91      0.88      0.89        24\n",
      "     Class C       1.00      0.80      0.89        15\n",
      "     Class D       0.59      1.00      0.74        10\n",
      "\n",
      "    accuracy                           0.84        55\n",
      "   macro avg       0.88      0.79      0.80        55\n",
      "weighted avg       0.89      0.84      0.84        55\n",
      "\n"
     ]
    }
   ],
   "source": [
    "from sklearn.metrics import classification_report\n",
    "report = classification_report(y_test, y_predict)\n",
    "print(report)"
   ]
  },
  {
   "cell_type": "code",
   "execution_count": null,
   "metadata": {},
   "outputs": [],
   "source": []
  },
  {
   "cell_type": "markdown",
   "metadata": {},
   "source": [
    "# Logistic Regression feature select"
   ]
  },
  {
   "cell_type": "code",
   "execution_count": 277,
   "metadata": {},
   "outputs": [
    {
     "name": "stderr",
     "output_type": "stream",
     "text": [
      "C:\\Users\\NZK\\anaconda3\\lib\\site-packages\\sklearn\\linear_model\\_logistic.py:762: ConvergenceWarning: lbfgs failed to converge (status=1):\n",
      "STOP: TOTAL NO. of ITERATIONS REACHED LIMIT.\n",
      "\n",
      "Increase the number of iterations (max_iter) or scale the data as shown in:\n",
      "    https://scikit-learn.org/stable/modules/preprocessing.html\n",
      "Please also refer to the documentation for alternative solver options:\n",
      "    https://scikit-learn.org/stable/modules/linear_model.html#logistic-regression\n",
      "  n_iter_i = _check_optimize_result(\n"
     ]
    },
    {
     "data": {
      "text/plain": [
       "array([False,  True,  True, False, False, False,  True,  True, False,\n",
       "       False,  True, False, False])"
      ]
     },
     "execution_count": 277,
     "metadata": {},
     "output_type": "execute_result"
    }
   ],
   "source": [
    "a = df[['Fire elevation','Temperature','Relative humidity','Wind speed','Wind direction','24 hour precipitation',\n",
    "        'FFMC','DMC','DC','ISI','BUI','FWI','DSR']]\n",
    "b = df['FIRE_SIZE']\n",
    "a = a.values.tolist()\n",
    "b = b.values.tolist()\n",
    "selector = SelectFromModel(LogisticRegression(penalty=\"l2\", C=0.1)).fit(a, b)\n",
    "selector.get_support()\n"
   ]
  },
  {
   "cell_type": "code",
   "execution_count": 278,
   "metadata": {
    "scrolled": true
   },
   "outputs": [
    {
     "data": {
      "text/html": [
       "<div>\n",
       "<style scoped>\n",
       "    .dataframe tbody tr th:only-of-type {\n",
       "        vertical-align: middle;\n",
       "    }\n",
       "\n",
       "    .dataframe tbody tr th {\n",
       "        vertical-align: top;\n",
       "    }\n",
       "\n",
       "    .dataframe thead th {\n",
       "        text-align: right;\n",
       "    }\n",
       "</style>\n",
       "<table border=\"1\" class=\"dataframe\">\n",
       "  <thead>\n",
       "    <tr style=\"text-align: right;\">\n",
       "      <th></th>\n",
       "      <th>0</th>\n",
       "      <th>1</th>\n",
       "      <th>2</th>\n",
       "      <th>3</th>\n",
       "      <th>4</th>\n",
       "      <th>5</th>\n",
       "      <th>6</th>\n",
       "      <th>7</th>\n",
       "      <th>8</th>\n",
       "      <th>9</th>\n",
       "      <th>10</th>\n",
       "      <th>11</th>\n",
       "      <th>12</th>\n",
       "    </tr>\n",
       "  </thead>\n",
       "  <tbody>\n",
       "    <tr>\n",
       "      <th>0</th>\n",
       "      <td>-0.000646</td>\n",
       "      <td>-0.015776</td>\n",
       "      <td>0.015978</td>\n",
       "      <td>-0.001734</td>\n",
       "      <td>-0.004888</td>\n",
       "      <td>-0.003266</td>\n",
       "      <td>0.044338</td>\n",
       "      <td>-0.028521</td>\n",
       "      <td>-0.000786</td>\n",
       "      <td>-0.001386</td>\n",
       "      <td>-0.031945</td>\n",
       "      <td>-0.001886</td>\n",
       "      <td>-0.002544</td>\n",
       "    </tr>\n",
       "    <tr>\n",
       "      <th>1</th>\n",
       "      <td>-0.002288</td>\n",
       "      <td>-0.016031</td>\n",
       "      <td>0.037468</td>\n",
       "      <td>0.003683</td>\n",
       "      <td>0.001193</td>\n",
       "      <td>-0.005518</td>\n",
       "      <td>0.026169</td>\n",
       "      <td>0.006881</td>\n",
       "      <td>-0.006203</td>\n",
       "      <td>0.009286</td>\n",
       "      <td>0.003155</td>\n",
       "      <td>0.002840</td>\n",
       "      <td>0.007603</td>\n",
       "    </tr>\n",
       "    <tr>\n",
       "      <th>2</th>\n",
       "      <td>0.001732</td>\n",
       "      <td>0.020992</td>\n",
       "      <td>-0.030137</td>\n",
       "      <td>0.008165</td>\n",
       "      <td>0.001963</td>\n",
       "      <td>0.008574</td>\n",
       "      <td>-0.043206</td>\n",
       "      <td>0.025072</td>\n",
       "      <td>0.002909</td>\n",
       "      <td>-0.005629</td>\n",
       "      <td>0.006596</td>\n",
       "      <td>0.009433</td>\n",
       "      <td>0.007845</td>\n",
       "    </tr>\n",
       "    <tr>\n",
       "      <th>3</th>\n",
       "      <td>0.001202</td>\n",
       "      <td>0.010815</td>\n",
       "      <td>-0.023310</td>\n",
       "      <td>-0.010114</td>\n",
       "      <td>0.001731</td>\n",
       "      <td>0.000210</td>\n",
       "      <td>-0.027301</td>\n",
       "      <td>-0.003433</td>\n",
       "      <td>0.004080</td>\n",
       "      <td>-0.002271</td>\n",
       "      <td>0.022193</td>\n",
       "      <td>-0.010387</td>\n",
       "      <td>-0.012904</td>\n",
       "    </tr>\n",
       "  </tbody>\n",
       "</table>\n",
       "</div>"
      ],
      "text/plain": [
       "         0         1         2         3         4         5         6   \\\n",
       "0 -0.000646 -0.015776  0.015978 -0.001734 -0.004888 -0.003266  0.044338   \n",
       "1 -0.002288 -0.016031  0.037468  0.003683  0.001193 -0.005518  0.026169   \n",
       "2  0.001732  0.020992 -0.030137  0.008165  0.001963  0.008574 -0.043206   \n",
       "3  0.001202  0.010815 -0.023310 -0.010114  0.001731  0.000210 -0.027301   \n",
       "\n",
       "         7         8         9         10        11        12  \n",
       "0 -0.028521 -0.000786 -0.001386 -0.031945 -0.001886 -0.002544  \n",
       "1  0.006881 -0.006203  0.009286  0.003155  0.002840  0.007603  \n",
       "2  0.025072  0.002909 -0.005629  0.006596  0.009433  0.007845  \n",
       "3 -0.003433  0.004080 -0.002271  0.022193 -0.010387 -0.012904  "
      ]
     },
     "execution_count": 278,
     "metadata": {},
     "output_type": "execute_result"
    }
   ],
   "source": [
    "array = selector.estimator_.coef_\n",
    "array = pd.DataFrame(array)\n",
    "array"
   ]
  },
  {
   "cell_type": "code",
   "execution_count": 283,
   "metadata": {},
   "outputs": [],
   "source": [
    "array.to_excel(r'C:\\Users\\NZK\\OneDrive - University of Exeter\\Desktop\\Business Analytics\\Business Project\\resultdata.xlsx')"
   ]
  },
  {
   "cell_type": "markdown",
   "metadata": {},
   "source": [
    "# feature extraction"
   ]
  },
  {
   "cell_type": "code",
   "execution_count": 333,
   "metadata": {},
   "outputs": [],
   "source": [
    "x = df[['Temperature','Relative humidity','FFMC','DMC','BUI']]\n",
    "y = df['FIRE_SIZE']\n",
    "\n",
    "\n",
    "x_train, x_test, y_train, y_test = train_test_split(x, y,random_state=6)\n",
    "\n",
    "transfer = StandardScaler()\n",
    "x_train = transfer.fit_transform(x_train)\n",
    "x_test = transfer.transform(x_test)"
   ]
  },
  {
   "cell_type": "markdown",
   "metadata": {},
   "source": [
    "# Logistic Regression"
   ]
  },
  {
   "cell_type": "code",
   "execution_count": 267,
   "metadata": {},
   "outputs": [],
   "source": [
    "from sklearn.linear_model import LogisticRegression"
   ]
  },
  {
   "cell_type": "code",
   "execution_count": 318,
   "metadata": {},
   "outputs": [
    {
     "name": "stdout",
     "output_type": "stream",
     "text": [
      "回归系数: \n",
      " [[-0.577254    0.14322048  0.83964229 -0.98325459 -0.14682242]\n",
      " [-0.23819705  0.05694743  0.01989144  0.24048611 -0.36178344]\n",
      " [ 0.57778487 -0.07562664 -0.50744741  1.22401611 -0.47404346]\n",
      " [ 0.23766618 -0.12454127 -0.35208633 -0.48124763  0.98264932]]\n",
      "偏置: \n",
      " [-0.34180576  0.24803151 -0.03618435  0.1299586 ]\n"
     ]
    }
   ],
   "source": [
    "print('回归系数: \\n',estimator.coef_)\n",
    "print('偏置: \\n', estimator.intercept_)"
   ]
  },
  {
   "cell_type": "code",
   "execution_count": 334,
   "metadata": {
    "scrolled": true
   },
   "outputs": [
    {
     "name": "stdout",
     "output_type": "stream",
     "text": [
      "y_predict: \n",
      " ['Class B' 'Class B' 'Class B' 'Class D' 'Class B' 'Class B' 'Class B'\n",
      " 'Class B' 'Class B' 'Class B' 'Class C' 'Class B' 'Class D' 'Class B'\n",
      " 'Class B' 'Class B' 'Class B' 'Class B' 'Class B' 'Class D' 'Class D'\n",
      " 'Class B' 'Class D' 'Class D' 'Class B' 'Class C' 'Class B' 'Class B'\n",
      " 'Class B' 'Class B' 'Class B' 'Class B' 'Class D' 'Class A' 'Class B'\n",
      " 'Class B' 'Class B' 'Class B' 'Class B' 'Class B' 'Class B' 'Class B'\n",
      " 'Class D' 'Class D' 'Class D' 'Class B' 'Class D' 'Class D' 'Class B'\n",
      " 'Class B' 'Class D' 'Class D' 'Class B' 'Class B' 'Class B']\n",
      "直接比对真实值和预测值: \n",
      " 90     False\n",
      "52      True\n",
      "49      True\n",
      "134    False\n",
      "13     False\n",
      "188     True\n",
      "19     False\n",
      "174     True\n",
      "136    False\n",
      "197    False\n",
      "182    False\n",
      "187     True\n",
      "54     False\n",
      "99      True\n",
      "6       True\n",
      "11     False\n",
      "176    False\n",
      "87     False\n",
      "21     False\n",
      "148    False\n",
      "160    False\n",
      "59      True\n",
      "146    False\n",
      "165    False\n",
      "64      True\n",
      "162    False\n",
      "120     True\n",
      "12     False\n",
      "30      True\n",
      "56      True\n",
      "65      True\n",
      "4      False\n",
      "149    False\n",
      "168     True\n",
      "115     True\n",
      "53      True\n",
      "93     False\n",
      "178     True\n",
      "74      True\n",
      "96     False\n",
      "83      True\n",
      "112     True\n",
      "159    False\n",
      "206     True\n",
      "210     True\n",
      "107     True\n",
      "131    False\n",
      "215     True\n",
      "126    False\n",
      "118     True\n",
      "145    False\n",
      "158    False\n",
      "58      True\n",
      "81      True\n",
      "84     False\n",
      "Name: FIRE_SIZE, dtype: bool\n",
      "准确率为: \n",
      " 0.4909090909090909\n"
     ]
    }
   ],
   "source": [
    "estimator = LogisticRegression(multi_class='multinomial',solver='lbfgs',max_iter=1000)\n",
    "estimator.fit(x_train, y_train)\n",
    "\n",
    "y_predict = estimator.predict(x_test)\n",
    "print('y_predict: \\n', y_predict)\n",
    "print('直接比对真实值和预测值: \\n', y_test == y_predict)\n",
    "score = estimator.score(x_test, y_test)\n",
    "print('准确率为: \\n', score)"
   ]
  },
  {
   "cell_type": "code",
   "execution_count": 335,
   "metadata": {},
   "outputs": [
    {
     "name": "stdout",
     "output_type": "stream",
     "text": [
      "              precision    recall  f1-score   support\n",
      "\n",
      "     Class A       1.00      0.17      0.29         6\n",
      "     Class B       0.61      0.96      0.74        24\n",
      "     Class C       0.00      0.00      0.00        15\n",
      "     Class D       0.21      0.30      0.25        10\n",
      "\n",
      "    accuracy                           0.49        55\n",
      "   macro avg       0.45      0.36      0.32        55\n",
      "weighted avg       0.41      0.49      0.40        55\n",
      "\n"
     ]
    }
   ],
   "source": [
    "from sklearn.metrics import classification_report\n",
    "report = classification_report(y_test, y_predict)\n",
    "print(report)"
   ]
  },
  {
   "cell_type": "code",
   "execution_count": null,
   "metadata": {},
   "outputs": [],
   "source": []
  },
  {
   "cell_type": "code",
   "execution_count": null,
   "metadata": {},
   "outputs": [],
   "source": []
  },
  {
   "cell_type": "code",
   "execution_count": null,
   "metadata": {},
   "outputs": [],
   "source": []
  },
  {
   "cell_type": "markdown",
   "metadata": {},
   "source": [
    "# KNN"
   ]
  },
  {
   "cell_type": "code",
   "execution_count": 139,
   "metadata": {},
   "outputs": [],
   "source": [
    "from sklearn.neighbors import KNeighborsClassifier"
   ]
  },
  {
   "cell_type": "code",
   "execution_count": 157,
   "metadata": {
    "scrolled": true
   },
   "outputs": [
    {
     "name": "stdout",
     "output_type": "stream",
     "text": [
      "y_predict: \n",
      " ['Class C' 'Class C' 'Class B' 'Class C' 'Class D' 'Class B' 'Class D'\n",
      " 'Class B' 'Class D' 'Class D' 'Class B' 'Class B' 'Class D' 'Class B'\n",
      " 'Class D' 'Class D' 'Class C' 'Class A' 'Class B' 'Class C' 'Class C'\n",
      " 'Class B' 'Class C' 'Class C' 'Class D' 'Class D' 'Class B' 'Class D'\n",
      " 'Class B' 'Class B' 'Class B' 'Class D' 'Class C' 'Class B' 'Class B'\n",
      " 'Class C' 'Class C' 'Class B' 'Class B' 'Class C' 'Class B' 'Class B'\n",
      " 'Class C' 'Class D' 'Class D' 'Class B' 'Class C' 'Class D' 'Class A'\n",
      " 'Class B' 'Class C' 'Class C' 'Class A' 'Class B' 'Class D']\n",
      "直接比对真实值和预测值: \n",
      " 90      True\n",
      "52     False\n",
      "49      True\n",
      "134     True\n",
      "13      True\n",
      "188     True\n",
      "19      True\n",
      "174     True\n",
      "136    False\n",
      "197     True\n",
      "182     True\n",
      "187     True\n",
      "54     False\n",
      "99      True\n",
      "6      False\n",
      "11      True\n",
      "176     True\n",
      "87      True\n",
      "21     False\n",
      "148     True\n",
      "160     True\n",
      "59      True\n",
      "146     True\n",
      "165     True\n",
      "64     False\n",
      "162     True\n",
      "120     True\n",
      "12      True\n",
      "30      True\n",
      "56      True\n",
      "65      True\n",
      "4       True\n",
      "149     True\n",
      "168    False\n",
      "115     True\n",
      "53     False\n",
      "93      True\n",
      "178     True\n",
      "74      True\n",
      "96      True\n",
      "83      True\n",
      "112     True\n",
      "159     True\n",
      "206     True\n",
      "210     True\n",
      "107     True\n",
      "131     True\n",
      "215     True\n",
      "126     True\n",
      "118     True\n",
      "145     True\n",
      "158     True\n",
      "58     False\n",
      "81      True\n",
      "84     False\n",
      "Name: FIRE_SIZE, dtype: bool\n",
      "准确率为: \n",
      " 0.8181818181818182\n",
      "最佳参数: \n",
      " {'n_neighbors': 1}\n",
      "最佳结果: \n",
      " 0.7454545454545455\n",
      "最佳估计器: \n",
      " KNeighborsClassifier(n_neighbors=1)\n",
      "交叉验证结果: \n",
      " {'mean_fit_time': array([0.00133999, 0.00099969, 0.00100493, 0.00100152, 0.00067155,\n",
      "       0.00133101]), 'std_fit_time': array([4.69163879e-04, 7.01885292e-07, 8.44957597e-06, 2.43399824e-06,\n",
      "       4.74897945e-04, 4.69740766e-04]), 'mean_score_time': array([0.0033284 , 0.00365829, 0.00233142, 0.00233142, 0.00265447,\n",
      "       0.00233221]), 'std_score_time': array([0.00046004, 0.00047917, 0.00046084, 0.00047126, 0.00047791,\n",
      "       0.00047103]), 'param_n_neighbors': masked_array(data=[1, 3, 5, 7, 9, 11],\n",
      "             mask=[False, False, False, False, False, False],\n",
      "       fill_value='?',\n",
      "            dtype=object), 'params': [{'n_neighbors': 1}, {'n_neighbors': 3}, {'n_neighbors': 5}, {'n_neighbors': 7}, {'n_neighbors': 9}, {'n_neighbors': 11}], 'split0_test_score': array([0.69090909, 0.56363636, 0.43636364, 0.47272727, 0.41818182,\n",
      "       0.4       ]), 'split1_test_score': array([0.83636364, 0.54545455, 0.47272727, 0.47272727, 0.34545455,\n",
      "       0.4       ]), 'split2_test_score': array([0.70909091, 0.54545455, 0.41818182, 0.4       , 0.4       ,\n",
      "       0.41818182]), 'mean_test_score': array([0.74545455, 0.55151515, 0.44242424, 0.44848485, 0.38787879,\n",
      "       0.40606061]), 'std_test_score': array([0.06470957, 0.00857099, 0.02267671, 0.03428397, 0.03090315,\n",
      "       0.00857099]), 'rank_test_score': array([1, 2, 4, 3, 6, 5])}\n"
     ]
    }
   ],
   "source": [
    "estimator = KNeighborsClassifier() \n",
    "\n",
    "\n",
    "param_dict = {'n_neighbors': [1,3,5,7,9,11]}\n",
    "estimator = GridSearchCV(estimator, param_grid=param_dict, cv=3)\n",
    "\n",
    "estimator.fit(x_train, y_train)\n",
    "\n",
    "\n",
    "y_predict = estimator.predict(x_test)\n",
    "print('y_predict: \\n', y_predict)\n",
    "print('直接比对真实值和预测值: \\n', y_test == y_predict)\n",
    "score = estimator.score(x_test, y_test)\n",
    "print('准确率为: \\n', score)\n",
    "print('最佳参数: \\n', estimator.best_params_)\n",
    "print('最佳结果: \\n', estimator.best_score_)    \n",
    "print('最佳估计器: \\n', estimator.best_estimator_)    \n",
    "print('交叉验证结果: \\n', estimator.cv_results_)    "
   ]
  },
  {
   "cell_type": "code",
   "execution_count": 158,
   "metadata": {},
   "outputs": [
    {
     "name": "stdout",
     "output_type": "stream",
     "text": [
      "              precision    recall  f1-score   support\n",
      "\n",
      "     Class A       0.67      0.33      0.44         6\n",
      "     Class B       0.90      0.79      0.84        24\n",
      "     Class C       0.88      0.93      0.90        15\n",
      "     Class D       0.67      1.00      0.80        10\n",
      "\n",
      "    accuracy                           0.82        55\n",
      "   macro avg       0.78      0.76      0.75        55\n",
      "weighted avg       0.83      0.82      0.81        55\n",
      "\n"
     ]
    }
   ],
   "source": [
    "from sklearn.metrics import classification_report\n",
    "report = classification_report(y_test, y_predict)\n",
    "print(report)"
   ]
  },
  {
   "cell_type": "code",
   "execution_count": null,
   "metadata": {},
   "outputs": [],
   "source": []
  },
  {
   "cell_type": "markdown",
   "metadata": {},
   "source": [
    "# SVM feature select"
   ]
  },
  {
   "cell_type": "code",
   "execution_count": 222,
   "metadata": {},
   "outputs": [],
   "source": [
    "from sklearn.svm import LinearSVC"
   ]
  },
  {
   "cell_type": "code",
   "execution_count": 298,
   "metadata": {},
   "outputs": [
    {
     "name": "stderr",
     "output_type": "stream",
     "text": [
      "C:\\Users\\NZK\\anaconda3\\lib\\site-packages\\sklearn\\svm\\_base.py:976: ConvergenceWarning: Liblinear failed to converge, increase the number of iterations.\n",
      "  warnings.warn(\"Liblinear failed to converge, increase \"\n"
     ]
    },
    {
     "data": {
      "text/plain": [
       "array([[ 8.45355374e-05, -1.32434517e-02,  0.00000000e+00,\n",
       "         0.00000000e+00, -9.76275492e-04,  0.00000000e+00,\n",
       "         0.00000000e+00, -3.91379994e-03,  4.51483611e-04,\n",
       "         0.00000000e+00, -4.98204568e-03,  0.00000000e+00,\n",
       "         0.00000000e+00],\n",
       "       [-1.18107190e-03, -6.87762555e-03,  1.68057842e-02,\n",
       "         0.00000000e+00,  0.00000000e+00,  0.00000000e+00,\n",
       "         1.19159963e-02,  0.00000000e+00, -2.61541026e-03,\n",
       "         7.26198003e-03, -1.55112012e-03,  0.00000000e+00,\n",
       "         0.00000000e+00],\n",
       "       [ 5.96763810e-04,  2.54829499e-02, -9.60877192e-03,\n",
       "         4.97259170e-03,  2.91247376e-04,  0.00000000e+00,\n",
       "        -2.37111021e-02,  9.76990145e-03,  6.69955625e-04,\n",
       "         0.00000000e+00,  0.00000000e+00,  4.78445026e-03,\n",
       "         0.00000000e+00],\n",
       "       [ 4.88037240e-04,  1.80489719e-03, -1.03318168e-02,\n",
       "         0.00000000e+00,  2.36265905e-04,  0.00000000e+00,\n",
       "        -1.37322495e-02, -4.15109109e-04,  1.67205797e-03,\n",
       "         0.00000000e+00,  3.83173412e-03,  0.00000000e+00,\n",
       "        -1.17761483e-02]])"
      ]
     },
     "execution_count": 298,
     "metadata": {},
     "output_type": "execute_result"
    }
   ],
   "source": [
    "\n",
    "a = df[['Fire elevation','Temperature','Relative humidity','Wind speed','Wind direction','24 hour precipitation',\n",
    "        'FFMC','DMC','DC','ISI','BUI','FWI','DSR']]\n",
    "b = df['FIRE_SIZE']\n",
    "a = a.values.tolist()\n",
    "b = b.values.tolist()\n",
    "lsvc = SelectFromModel(LinearSVC(C=0.01, penalty=\"l1\", dual=False)).fit(a, b)\n",
    "lsvc.estimator_.coef_"
   ]
  },
  {
   "cell_type": "code",
   "execution_count": 284,
   "metadata": {},
   "outputs": [
    {
     "data": {
      "text/html": [
       "<div>\n",
       "<style scoped>\n",
       "    .dataframe tbody tr th:only-of-type {\n",
       "        vertical-align: middle;\n",
       "    }\n",
       "\n",
       "    .dataframe tbody tr th {\n",
       "        vertical-align: top;\n",
       "    }\n",
       "\n",
       "    .dataframe thead th {\n",
       "        text-align: right;\n",
       "    }\n",
       "</style>\n",
       "<table border=\"1\" class=\"dataframe\">\n",
       "  <thead>\n",
       "    <tr style=\"text-align: right;\">\n",
       "      <th></th>\n",
       "      <th>0</th>\n",
       "      <th>1</th>\n",
       "      <th>2</th>\n",
       "      <th>3</th>\n",
       "      <th>4</th>\n",
       "      <th>5</th>\n",
       "      <th>6</th>\n",
       "      <th>7</th>\n",
       "      <th>8</th>\n",
       "      <th>9</th>\n",
       "      <th>10</th>\n",
       "      <th>11</th>\n",
       "      <th>12</th>\n",
       "    </tr>\n",
       "  </thead>\n",
       "  <tbody>\n",
       "    <tr>\n",
       "      <th>0</th>\n",
       "      <td>0.000084</td>\n",
       "      <td>-0.013205</td>\n",
       "      <td>0.000000</td>\n",
       "      <td>0.000000</td>\n",
       "      <td>-0.000976</td>\n",
       "      <td>0.0</td>\n",
       "      <td>0.000000</td>\n",
       "      <td>-0.004530</td>\n",
       "      <td>0.000426</td>\n",
       "      <td>0.000000</td>\n",
       "      <td>-0.004428</td>\n",
       "      <td>0.000000</td>\n",
       "      <td>0.00000</td>\n",
       "    </tr>\n",
       "    <tr>\n",
       "      <th>1</th>\n",
       "      <td>-0.001181</td>\n",
       "      <td>-0.006867</td>\n",
       "      <td>0.016810</td>\n",
       "      <td>0.000000</td>\n",
       "      <td>0.000000</td>\n",
       "      <td>0.0</td>\n",
       "      <td>0.011910</td>\n",
       "      <td>0.000000</td>\n",
       "      <td>-0.002616</td>\n",
       "      <td>0.007269</td>\n",
       "      <td>-0.001550</td>\n",
       "      <td>0.000000</td>\n",
       "      <td>0.00000</td>\n",
       "    </tr>\n",
       "    <tr>\n",
       "      <th>2</th>\n",
       "      <td>0.000597</td>\n",
       "      <td>0.025394</td>\n",
       "      <td>-0.009633</td>\n",
       "      <td>0.004877</td>\n",
       "      <td>0.000291</td>\n",
       "      <td>0.0</td>\n",
       "      <td>-0.023661</td>\n",
       "      <td>0.009760</td>\n",
       "      <td>0.000670</td>\n",
       "      <td>0.000000</td>\n",
       "      <td>0.000000</td>\n",
       "      <td>0.004797</td>\n",
       "      <td>0.00000</td>\n",
       "    </tr>\n",
       "    <tr>\n",
       "      <th>3</th>\n",
       "      <td>0.000488</td>\n",
       "      <td>0.001809</td>\n",
       "      <td>-0.010330</td>\n",
       "      <td>0.000000</td>\n",
       "      <td>0.000237</td>\n",
       "      <td>0.0</td>\n",
       "      <td>-0.013733</td>\n",
       "      <td>-0.000517</td>\n",
       "      <td>0.001667</td>\n",
       "      <td>0.000000</td>\n",
       "      <td>0.003928</td>\n",
       "      <td>0.000000</td>\n",
       "      <td>-0.01177</td>\n",
       "    </tr>\n",
       "  </tbody>\n",
       "</table>\n",
       "</div>"
      ],
      "text/plain": [
       "         0         1         2         3         4    5         6         7   \\\n",
       "0  0.000084 -0.013205  0.000000  0.000000 -0.000976  0.0  0.000000 -0.004530   \n",
       "1 -0.001181 -0.006867  0.016810  0.000000  0.000000  0.0  0.011910  0.000000   \n",
       "2  0.000597  0.025394 -0.009633  0.004877  0.000291  0.0 -0.023661  0.009760   \n",
       "3  0.000488  0.001809 -0.010330  0.000000  0.000237  0.0 -0.013733 -0.000517   \n",
       "\n",
       "         8         9         10        11       12  \n",
       "0  0.000426  0.000000 -0.004428  0.000000  0.00000  \n",
       "1 -0.002616  0.007269 -0.001550  0.000000  0.00000  \n",
       "2  0.000670  0.000000  0.000000  0.004797  0.00000  \n",
       "3  0.001667  0.000000  0.003928  0.000000 -0.01177  "
      ]
     },
     "execution_count": 284,
     "metadata": {},
     "output_type": "execute_result"
    }
   ],
   "source": [
    "array = lsvc.estimator_.coef_\n",
    "array = pd.DataFrame(array)\n",
    "array"
   ]
  },
  {
   "cell_type": "code",
   "execution_count": 285,
   "metadata": {},
   "outputs": [],
   "source": [
    "array.to_excel(r'C:\\Users\\NZK\\OneDrive - University of Exeter\\Desktop\\Business Analytics\\Business Project\\resultdata2.xlsx')"
   ]
  },
  {
   "cell_type": "code",
   "execution_count": 299,
   "metadata": {},
   "outputs": [
    {
     "data": {
      "text/plain": [
       "array([ True,  True,  True,  True,  True, False,  True,  True,  True,\n",
       "        True,  True,  True,  True])"
      ]
     },
     "execution_count": 299,
     "metadata": {},
     "output_type": "execute_result"
    }
   ],
   "source": [
    "lsvc.get_support()"
   ]
  },
  {
   "cell_type": "code",
   "execution_count": null,
   "metadata": {},
   "outputs": [],
   "source": [
    "'Fire elevation','Temperature','Relative humidity','Wind speed','Wind direction','FFMC','DMC','DC','ISI','BUI','FWI'"
   ]
  },
  {
   "cell_type": "markdown",
   "metadata": {},
   "source": [
    "# feature extraction"
   ]
  },
  {
   "cell_type": "code",
   "execution_count": 313,
   "metadata": {},
   "outputs": [],
   "source": [
    "x = df[['Temperature','Relative humidity','FFMC','DMC','DSR']]\n",
    "y = df['FIRE_SIZE']\n",
    "\n",
    "x_train, x_test, y_train, y_test = train_test_split(x, y,random_state=6)\n",
    "\n",
    "transfer = StandardScaler()\n",
    "x_train = transfer.fit_transform(x_train)\n",
    "x_test = transfer.transform(x_test)"
   ]
  },
  {
   "cell_type": "markdown",
   "metadata": {},
   "source": [
    "# SVM"
   ]
  },
  {
   "cell_type": "code",
   "execution_count": 143,
   "metadata": {},
   "outputs": [],
   "source": [
    "from sklearn import svm"
   ]
  },
  {
   "cell_type": "code",
   "execution_count": 314,
   "metadata": {
    "scrolled": false
   },
   "outputs": [
    {
     "name": "stdout",
     "output_type": "stream",
     "text": [
      "y_predict: \n",
      " ['Class C' 'Class B' 'Class B' 'Class C' 'Class D' 'Class B' 'Class B'\n",
      " 'Class B' 'Class D' 'Class D' 'Class B' 'Class B' 'Class B' 'Class B'\n",
      " 'Class B' 'Class D' 'Class B' 'Class B' 'Class D' 'Class C' 'Class C'\n",
      " 'Class B' 'Class C' 'Class B' 'Class B' 'Class B' 'Class B' 'Class D'\n",
      " 'Class B' 'Class B' 'Class B' 'Class D' 'Class C' 'Class A' 'Class B'\n",
      " 'Class B' 'Class C' 'Class D' 'Class B' 'Class C' 'Class B' 'Class B'\n",
      " 'Class C' 'Class D' 'Class D' 'Class B' 'Class C' 'Class D' 'Class A'\n",
      " 'Class B' 'Class C' 'Class C' 'Class B' 'Class B' 'Class D']\n",
      "直接比对真实值和预测值: \n",
      " 90      True\n",
      "52      True\n",
      "49      True\n",
      "134     True\n",
      "13      True\n",
      "188     True\n",
      "19     False\n",
      "174     True\n",
      "136    False\n",
      "197     True\n",
      "182     True\n",
      "187     True\n",
      "54     False\n",
      "99      True\n",
      "6       True\n",
      "11      True\n",
      "176    False\n",
      "87     False\n",
      "21     False\n",
      "148     True\n",
      "160     True\n",
      "59      True\n",
      "146     True\n",
      "165    False\n",
      "64      True\n",
      "162    False\n",
      "120     True\n",
      "12      True\n",
      "30      True\n",
      "56      True\n",
      "65      True\n",
      "4       True\n",
      "149     True\n",
      "168     True\n",
      "115     True\n",
      "53      True\n",
      "93      True\n",
      "178    False\n",
      "74      True\n",
      "96      True\n",
      "83      True\n",
      "112     True\n",
      "159     True\n",
      "206     True\n",
      "210     True\n",
      "107     True\n",
      "131     True\n",
      "215     True\n",
      "126     True\n",
      "118     True\n",
      "145     True\n",
      "158     True\n",
      "58      True\n",
      "81      True\n",
      "84     False\n",
      "Name: FIRE_SIZE, dtype: bool\n",
      "准确率为: \n",
      " 0.8181818181818182\n"
     ]
    }
   ],
   "source": [
    "estimator = svm.SVC(C=1, gamma=1) \n",
    "estimator.fit(x_train, y_train) \n",
    "\n",
    "y_predict = estimator.predict(x_test)\n",
    "print('y_predict: \\n', y_predict)\n",
    "print('直接比对真实值和预测值: \\n', y_test == y_predict)\n",
    "score = estimator.score(x_test, y_test)\n",
    "print('准确率为: \\n', score)"
   ]
  },
  {
   "cell_type": "code",
   "execution_count": 310,
   "metadata": {},
   "outputs": [
    {
     "name": "stdout",
     "output_type": "stream",
     "text": [
      "              precision    recall  f1-score   support\n",
      "\n",
      "     Class A       1.00      0.33      0.50         6\n",
      "     Class B       0.79      0.96      0.87        24\n",
      "     Class C       1.00      0.80      0.89        15\n",
      "     Class D       0.67      0.80      0.73        10\n",
      "\n",
      "    accuracy                           0.82        55\n",
      "   macro avg       0.86      0.72      0.75        55\n",
      "weighted avg       0.85      0.82      0.81        55\n",
      "\n"
     ]
    }
   ],
   "source": [
    "from sklearn.metrics import classification_report\n",
    "report = classification_report(y_test, y_predict)\n",
    "print(report)"
   ]
  },
  {
   "cell_type": "code",
   "execution_count": null,
   "metadata": {},
   "outputs": [],
   "source": []
  },
  {
   "cell_type": "markdown",
   "metadata": {},
   "source": [
    "# Bayes"
   ]
  },
  {
   "cell_type": "code",
   "execution_count": 161,
   "metadata": {
    "scrolled": true
   },
   "outputs": [
    {
     "name": "stdout",
     "output_type": "stream",
     "text": [
      "y_predict: \n",
      " ['Class B' 'Class C' 'Class C' 'Class C' 'Class B' 'Class B' 'Class B'\n",
      " 'Class B' 'Class C' 'Class B' 'Class C' 'Class B' 'Class C' 'Class B'\n",
      " 'Class C' 'Class B' 'Class C' 'Class B' 'Class B' 'Class C' 'Class C'\n",
      " 'Class B' 'Class C' 'Class C' 'Class D' 'Class C' 'Class B' 'Class B'\n",
      " 'Class B' 'Class B' 'Class B' 'Class B' 'Class C' 'Class B' 'Class B'\n",
      " 'Class C' 'Class B' 'Class B' 'Class B' 'Class B' 'Class B' 'Class B'\n",
      " 'Class C' 'Class B' 'Class B' 'Class B' 'Class C' 'Class B' 'Class C'\n",
      " 'Class B' 'Class B' 'Class C' 'Class B' 'Class B' 'Class B']\n",
      "直接比对真实值和预测值: \n",
      " 90     False\n",
      "52     False\n",
      "49     False\n",
      "134     True\n",
      "13     False\n",
      "188     True\n",
      "19     False\n",
      "174     True\n",
      "136     True\n",
      "197    False\n",
      "182    False\n",
      "187     True\n",
      "54     False\n",
      "99      True\n",
      "6      False\n",
      "11     False\n",
      "176     True\n",
      "87     False\n",
      "21     False\n",
      "148     True\n",
      "160     True\n",
      "59      True\n",
      "146     True\n",
      "165     True\n",
      "64     False\n",
      "162    False\n",
      "120     True\n",
      "12     False\n",
      "30      True\n",
      "56      True\n",
      "65      True\n",
      "4      False\n",
      "149     True\n",
      "168    False\n",
      "115     True\n",
      "53     False\n",
      "93     False\n",
      "178     True\n",
      "74      True\n",
      "96     False\n",
      "83      True\n",
      "112     True\n",
      "159     True\n",
      "206    False\n",
      "210    False\n",
      "107     True\n",
      "131     True\n",
      "215    False\n",
      "126    False\n",
      "118     True\n",
      "145    False\n",
      "158     True\n",
      "58      True\n",
      "81      True\n",
      "84     False\n",
      "Name: FIRE_SIZE, dtype: bool\n",
      "准确率为: \n",
      " 0.5272727272727272\n"
     ]
    }
   ],
   "source": [
    "from sklearn.naive_bayes import BernoulliNB\n",
    "estimator = BernoulliNB() \n",
    "estimator.fit(x_train, y_train) \n",
    "\n",
    "y_predict = estimator.predict(x_test)\n",
    "print('y_predict: \\n', y_predict)\n",
    "print('直接比对真实值和预测值: \\n', y_test == y_predict)\n",
    "score = estimator.score(x_test, y_test)\n",
    "print('准确率为: \\n', score)"
   ]
  },
  {
   "cell_type": "code",
   "execution_count": 162,
   "metadata": {},
   "outputs": [
    {
     "name": "stdout",
     "output_type": "stream",
     "text": [
      "              precision    recall  f1-score   support\n",
      "\n",
      "     Class A       0.00      0.00      0.00         6\n",
      "     Class B       0.51      0.75      0.61        24\n",
      "     Class C       0.58      0.73      0.65        15\n",
      "     Class D       0.00      0.00      0.00        10\n",
      "\n",
      "    accuracy                           0.53        55\n",
      "   macro avg       0.27      0.37      0.31        55\n",
      "weighted avg       0.38      0.53      0.44        55\n",
      "\n"
     ]
    },
    {
     "name": "stderr",
     "output_type": "stream",
     "text": [
      "C:\\Users\\NZK\\anaconda3\\lib\\site-packages\\sklearn\\metrics\\_classification.py:1221: UndefinedMetricWarning: Precision and F-score are ill-defined and being set to 0.0 in labels with no predicted samples. Use `zero_division` parameter to control this behavior.\n",
      "  _warn_prf(average, modifier, msg_start, len(result))\n"
     ]
    }
   ],
   "source": [
    "from sklearn.metrics import classification_report\n",
    "report = classification_report(y_test, y_predict)\n",
    "print(report)"
   ]
  },
  {
   "cell_type": "code",
   "execution_count": null,
   "metadata": {},
   "outputs": [],
   "source": []
  },
  {
   "cell_type": "markdown",
   "metadata": {},
   "source": [
    "# AdaBoost"
   ]
  },
  {
   "cell_type": "code",
   "execution_count": 150,
   "metadata": {},
   "outputs": [],
   "source": [
    "from sklearn.ensemble import AdaBoostClassifier"
   ]
  },
  {
   "cell_type": "code",
   "execution_count": 163,
   "metadata": {},
   "outputs": [
    {
     "name": "stdout",
     "output_type": "stream",
     "text": [
      "y_predict: \n",
      " ['Class C' 'Class C' 'Class B' 'Class C' 'Class D' 'Class B' 'Class B'\n",
      " 'Class B' 'Class D' 'Class D' 'Class C' 'Class B' 'Class C' 'Class B'\n",
      " 'Class D' 'Class D' 'Class D' 'Class B' 'Class B' 'Class C' 'Class C'\n",
      " 'Class B' 'Class C' 'Class C' 'Class B' 'Class C' 'Class D' 'Class D'\n",
      " 'Class B' 'Class A' 'Class B' 'Class D' 'Class C' 'Class A' 'Class A'\n",
      " 'Class C' 'Class C' 'Class B' 'Class D' 'Class B' 'Class B' 'Class B'\n",
      " 'Class C' 'Class B' 'Class B' 'Class A' 'Class C' 'Class D' 'Class A'\n",
      " 'Class D' 'Class C' 'Class C' 'Class B' 'Class B' 'Class A']\n",
      "直接比对真实值和预测值: \n",
      " 90      True\n",
      "52     False\n",
      "49      True\n",
      "134     True\n",
      "13      True\n",
      "188     True\n",
      "19     False\n",
      "174     True\n",
      "136    False\n",
      "197     True\n",
      "182    False\n",
      "187     True\n",
      "54     False\n",
      "99      True\n",
      "6      False\n",
      "11      True\n",
      "176    False\n",
      "87     False\n",
      "21     False\n",
      "148     True\n",
      "160     True\n",
      "59      True\n",
      "146     True\n",
      "165     True\n",
      "64      True\n",
      "162    False\n",
      "120    False\n",
      "12      True\n",
      "30      True\n",
      "56     False\n",
      "65      True\n",
      "4       True\n",
      "149     True\n",
      "168     True\n",
      "115    False\n",
      "53     False\n",
      "93      True\n",
      "178     True\n",
      "74     False\n",
      "96     False\n",
      "83      True\n",
      "112     True\n",
      "159     True\n",
      "206    False\n",
      "210    False\n",
      "107    False\n",
      "131     True\n",
      "215     True\n",
      "126     True\n",
      "118    False\n",
      "145     True\n",
      "158     True\n",
      "58      True\n",
      "81      True\n",
      "84      True\n",
      "Name: FIRE_SIZE, dtype: bool\n",
      "准确率为: \n",
      " 0.6363636363636364\n"
     ]
    }
   ],
   "source": [
    "\n",
    "estimator = AdaBoostClassifier(algorithm='SAMME.R', base_estimator=None,\n",
    "        learning_rate=1.0, n_estimators=100, random_state=0)\n",
    "estimator.fit(x_train, y_train) \n",
    "\n",
    "y_predict = estimator.predict(x_test)\n",
    "print('y_predict: \\n', y_predict)\n",
    "print('直接比对真实值和预测值: \\n', y_test == y_predict)\n",
    "score = estimator.score(x_test, y_test)\n",
    "print('准确率为: \\n', score)"
   ]
  },
  {
   "cell_type": "code",
   "execution_count": 164,
   "metadata": {},
   "outputs": [
    {
     "name": "stdout",
     "output_type": "stream",
     "text": [
      "              precision    recall  f1-score   support\n",
      "\n",
      "     Class A       0.50      0.50      0.50         6\n",
      "     Class B       0.70      0.58      0.64        24\n",
      "     Class C       0.71      0.80      0.75        15\n",
      "     Class D       0.50      0.60      0.55        10\n",
      "\n",
      "    accuracy                           0.64        55\n",
      "   macro avg       0.60      0.62      0.61        55\n",
      "weighted avg       0.64      0.64      0.64        55\n",
      "\n"
     ]
    }
   ],
   "source": [
    "from sklearn.metrics import classification_report\n",
    "report = classification_report(y_test, y_predict)\n",
    "print(report)"
   ]
  },
  {
   "cell_type": "code",
   "execution_count": null,
   "metadata": {},
   "outputs": [],
   "source": []
  }
 ],
 "metadata": {
  "kernelspec": {
   "display_name": "Python 3",
   "language": "python",
   "name": "python3"
  },
  "language_info": {
   "codemirror_mode": {
    "name": "ipython",
    "version": 3
   },
   "file_extension": ".py",
   "mimetype": "text/x-python",
   "name": "python",
   "nbconvert_exporter": "python",
   "pygments_lexer": "ipython3",
   "version": "3.8.5"
  }
 },
 "nbformat": 4,
 "nbformat_minor": 4
}
